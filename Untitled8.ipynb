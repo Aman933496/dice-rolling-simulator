{
  "nbformat": 4,
  "nbformat_minor": 0,
  "metadata": {
    "colab": {
      "provenance": [],
      "authorship_tag": "ABX9TyP10Cjb6R5Lo/NIvTztVcu+",
      "include_colab_link": true
    },
    "kernelspec": {
      "name": "python3",
      "display_name": "Python 3"
    },
    "language_info": {
      "name": "python"
    }
  },
  "cells": [
    {
      "cell_type": "markdown",
      "metadata": {
        "id": "view-in-github",
        "colab_type": "text"
      },
      "source": [
        "<a href=\"https://colab.research.google.com/github/Aman933496/dice-rolling-simulator/blob/main/Untitled8.ipynb\" target=\"_parent\"><img src=\"https://colab.research.google.com/assets/colab-badge.svg\" alt=\"Open In Colab\"/></a>"
      ]
    },
    {
      "cell_type": "code",
      "execution_count": null,
      "metadata": {
        "colab": {
          "base_uri": "https://localhost:8080/"
        },
        "id": "jAPI3dbBvl9d",
        "outputId": "d3babec0-0de1-45e1-b0d2-2b91c1471d3b"
      },
      "outputs": [
        {
          "output_type": "stream",
          "name": "stdout",
          "text": [
            "🎲 Welcome to the Dice Rolling Simulator! 🎲\n",
            "Press Enter to roll the dice...\n",
            "You rolled: 2\n",
            "Do you want to roll again? (y/n): y\n",
            "Press Enter to roll the dice...\n",
            "You rolled: 4\n",
            "Do you want to roll again? (y/n): y\n",
            "Press Enter to roll the dice...\n",
            "You rolled: 5\n",
            "Do you want to roll again? (y/n): y\n",
            "Press Enter to roll the dice...\n",
            "You rolled: 5\n"
          ]
        }
      ],
      "source": [
        "import random\n",
        "\n",
        "def roll_dice():\n",
        "    return random.randint(1, 6)\n",
        "\n",
        "def main():\n",
        "    print(\"🎲 Welcome to the Dice Rolling Simulator! 🎲\")\n",
        "\n",
        "    while True:\n",
        "        input(\"Press Enter to roll the dice...\")\n",
        "        result = roll_dice()\n",
        "        print(f\"You rolled: {result}\")\n",
        "\n",
        "        choice = input(\"Do you want to roll again? (y/n): \").lower()\n",
        "        if choice != \"y\":\n",
        "            print(\"Thanks for playing! Goodbye.\")\n",
        "            break\n",
        "\n",
        "if __name__ == \"__main__\":\n",
        "    main()\n"
      ]
    }
  ]
}